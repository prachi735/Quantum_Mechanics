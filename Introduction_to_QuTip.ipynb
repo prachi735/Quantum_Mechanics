{
  "nbformat": 4,
  "nbformat_minor": 0,
  "metadata": {
    "colab": {
      "name": "Introduction  to QuTip",
      "version": "0.3.2",
      "provenance": [],
      "collapsed_sections": [],
      "include_colab_link": true
    },
    "kernelspec": {
      "name": "python3",
      "display_name": "Python 3"
    }
  },
  "cells": [
    {
      "cell_type": "markdown",
      "metadata": {
        "id": "view-in-github",
        "colab_type": "text"
      },
      "source": [
        "<a href=\"https://colab.research.google.com/github/prachi735/Quantum_Mechanics/blob/master/Introduction_to_QuTip.ipynb\" target=\"_parent\"><img src=\"https://colab.research.google.com/assets/colab-badge.svg\" alt=\"Open In Colab\"/></a>"
      ]
    },
    {
      "metadata": {
        "id": "AUkX7lGAnMwn",
        "colab_type": "code",
        "colab": {}
      },
      "cell_type": "code",
      "source": [
        "%matplotlib inline"
      ],
      "execution_count": 0,
      "outputs": []
    },
    {
      "metadata": {
        "id": "x5f0IcKMnQgX",
        "colab_type": "code",
        "colab": {}
      },
      "cell_type": "code",
      "source": [
        "import matplotlib.pyplot as plt\n",
        "import numpy as np\n",
        "from IPython.display import Image"
      ],
      "execution_count": 0,
      "outputs": []
    },
    {
      "metadata": {
        "id": "CKHFyP59tPmH",
        "colab_type": "text"
      },
      "cell_type": "markdown",
      "source": [
        "# Introduction"
      ]
    },
    {
      "metadata": {
        "id": "ROkMZh43nQj7",
        "colab_type": "code",
        "colab": {
          "base_uri": "https://localhost:8080/",
          "height": 235
        },
        "outputId": "5f6a83bc-854f-4cd2-8fa3-e8f0624acfca"
      },
      "cell_type": "code",
      "source": [
        "!pip install qutip"
      ],
      "execution_count": 3,
      "outputs": [
        {
          "output_type": "stream",
          "text": [
            "Collecting qutip\n",
            "\u001b[?25l  Downloading https://files.pythonhosted.org/packages/02/fa/c815ed3f060ed96a56843dfdd1b9b68dd4d9924f7e255845c71d9f62d7d1/qutip-4.3.1.tar.gz (5.5MB)\n",
            "\u001b[K    100% |████████████████████████████████| 5.5MB 6.2MB/s \n",
            "\u001b[?25hRequirement already satisfied: numpy>=1.8 in /usr/local/lib/python3.6/dist-packages (from qutip) (1.14.6)\n",
            "Requirement already satisfied: scipy>=0.15 in /usr/local/lib/python3.6/dist-packages (from qutip) (1.1.0)\n",
            "Requirement already satisfied: cython>=0.21 in /usr/local/lib/python3.6/dist-packages (from qutip) (0.29.5)\n",
            "Building wheels for collected packages: qutip\n",
            "  Building wheel for qutip (setup.py) ... \u001b[?25ldone\n",
            "\u001b[?25h  Stored in directory: /root/.cache/pip/wheels/7d/f1/a4/f5687d0ab63c65cd818a29e7826f6ad677887730290476aabc\n",
            "Successfully built qutip\n",
            "Installing collected packages: qutip\n",
            "Successfully installed qutip-4.3.1\n"
          ],
          "name": "stdout"
        }
      ]
    },
    {
      "metadata": {
        "id": "31LobaZ4nQm2",
        "colab_type": "code",
        "colab": {}
      },
      "cell_type": "code",
      "source": [
        "from qutip import *"
      ],
      "execution_count": 0,
      "outputs": []
    },
    {
      "metadata": {
        "id": "o4YpOQZHinI6",
        "colab_type": "code",
        "outputId": "d65cc133-e43f-4b9b-939f-aa47c4b2844a",
        "colab": {
          "base_uri": "https://localhost:8080/",
          "height": 52
        }
      },
      "cell_type": "code",
      "source": [
        "# create quantum object\n",
        "q = Qobj([[1], [0]])\n",
        "q"
      ],
      "execution_count": 6,
      "outputs": [
        {
          "output_type": "execute_result",
          "data": {
            "text/latex": "Quantum object: dims = [[2], [1]], shape = (2, 1), type = ket\\begin{equation*}\\left(\\begin{array}{*{11}c}1.0\\\\0.0\\\\\\end{array}\\right)\\end{equation*}",
            "text/plain": [
              "Quantum object: dims = [[2], [1]], shape = (2, 1), type = ket\n",
              "Qobj data =\n",
              "[[1.]\n",
              " [0.]]"
            ]
          },
          "metadata": {
            "tags": []
          },
          "execution_count": 6
        }
      ]
    },
    {
      "metadata": {
        "id": "RTwvlDPzjGNw",
        "colab_type": "code",
        "outputId": "2f096d2a-9118-40c2-8b0a-6d18eb63aeec",
        "colab": {
          "base_uri": "https://localhost:8080/",
          "height": 35
        }
      },
      "cell_type": "code",
      "source": [
        "# the dimension, or composite Hilbert state space structure\n",
        "q.dims"
      ],
      "execution_count": 7,
      "outputs": [
        {
          "output_type": "execute_result",
          "data": {
            "text/plain": [
              "[[2], [1]]"
            ]
          },
          "metadata": {
            "tags": []
          },
          "execution_count": 7
        }
      ]
    },
    {
      "metadata": {
        "id": "Er_GfcpLkKzB",
        "colab_type": "code",
        "colab": {
          "base_uri": "https://localhost:8080/",
          "height": 35
        },
        "outputId": "1114b32d-f6af-4caf-eab1-ed839d788e62"
      },
      "cell_type": "code",
      "source": [
        "# the shape of the matrix data representatoin\n",
        "q.shape"
      ],
      "execution_count": 8,
      "outputs": [
        {
          "output_type": "execute_result",
          "data": {
            "text/plain": [
              "(2, 1)"
            ]
          },
          "metadata": {
            "tags": []
          },
          "execution_count": 8
        }
      ]
    },
    {
      "metadata": {
        "id": "Tb3g2E52k-f4",
        "colab_type": "code",
        "colab": {
          "base_uri": "https://localhost:8080/",
          "height": 54
        },
        "outputId": "61e3992d-3a03-4406-9f98-53248f0cd4f3"
      },
      "cell_type": "code",
      "source": [
        "# the matrix data itself, in sparse matrix format\n",
        "q.data"
      ],
      "execution_count": 9,
      "outputs": [
        {
          "output_type": "execute_result",
          "data": {
            "text/plain": [
              "<2x1 sparse matrix of type '<class 'numpy.complex128'>'\n",
              "\twith 1 stored elements in Compressed Sparse Row format>"
            ]
          },
          "metadata": {
            "tags": []
          },
          "execution_count": 9
        }
      ]
    },
    {
      "metadata": {
        "id": "46TtH9PdlE1O",
        "colab_type": "code",
        "colab": {
          "base_uri": "https://localhost:8080/",
          "height": 90
        },
        "outputId": "216151e9-4411-4649-b773-1b51ca9fe428"
      },
      "cell_type": "code",
      "source": [
        "# get the dense matrix representation\n",
        "q.full"
      ],
      "execution_count": 10,
      "outputs": [
        {
          "output_type": "execute_result",
          "data": {
            "text/plain": [
              "<bound method Qobj.full of Quantum object: dims = [[2], [1]], shape = (2, 1), type = ket\n",
              "Qobj data =\n",
              "[[1.]\n",
              " [0.]]>"
            ]
          },
          "metadata": {
            "tags": []
          },
          "execution_count": 10
        }
      ]
    },
    {
      "metadata": {
        "id": "k-CgXhzNlNwB",
        "colab_type": "code",
        "colab": {
          "base_uri": "https://localhost:8080/",
          "height": 35
        },
        "outputId": "78b0cce7-c858-4e1d-c2f3-5107bd5af77d"
      },
      "cell_type": "code",
      "source": [
        "# additional properties\n",
        "q.isherm, q.type"
      ],
      "execution_count": 11,
      "outputs": [
        {
          "output_type": "execute_result",
          "data": {
            "text/plain": [
              "(False, 'ket')"
            ]
          },
          "metadata": {
            "tags": []
          },
          "execution_count": 11
        }
      ]
    },
    {
      "metadata": {
        "id": "m3m7z3X_tUWA",
        "colab_type": "text"
      },
      "cell_type": "markdown",
      "source": [
        "Using Qobj instances for calculations"
      ]
    },
    {
      "metadata": {
        "id": "sBe_IlcutaXy",
        "colab_type": "code",
        "colab": {
          "base_uri": "https://localhost:8080/",
          "height": 90
        },
        "outputId": "fa7b31d2-95e2-430e-cfb2-ec7d9f28c55f"
      },
      "cell_type": "code",
      "source": [
        "sy = Qobj([[0,-1j], [1j,0]]) # the sigma-y Pauli operator\n",
        "sy\n",
        "print(sy)"
      ],
      "execution_count": 19,
      "outputs": [
        {
          "output_type": "stream",
          "text": [
            "Quantum object: dims = [[2], [2]], shape = (2, 2), type = oper, isherm = True\n",
            "Qobj data =\n",
            "[[0.+0.j 0.-1.j]\n",
            " [0.+1.j 0.+0.j]]\n"
          ],
          "name": "stdout"
        }
      ]
    },
    {
      "metadata": {
        "id": "aPgvLFWpuX3L",
        "colab_type": "code",
        "colab": {
          "base_uri": "https://localhost:8080/",
          "height": 90
        },
        "outputId": "990c0f8e-a057-4bc9-c014-defa42444cb6"
      },
      "cell_type": "code",
      "source": [
        "sz = Qobj([[1,0], [0,-1]]) # the sigma-z Pauli operator\n",
        "sz\n",
        "print(sz)"
      ],
      "execution_count": 21,
      "outputs": [
        {
          "output_type": "stream",
          "text": [
            "Quantum object: dims = [[2], [2]], shape = (2, 2), type = oper, isherm = True\n",
            "Qobj data =\n",
            "[[ 1.  0.]\n",
            " [ 0. -1.]]\n"
          ],
          "name": "stdout"
        }
      ]
    },
    {
      "metadata": {
        "id": "MpjzIGonxp2X",
        "colab_type": "code",
        "colab": {
          "base_uri": "https://localhost:8080/",
          "height": 108
        },
        "outputId": "5e83b16b-aca8-4092-fe94-7bbcf61525d7"
      },
      "cell_type": "code",
      "source": [
        "# some airthmetic with quantum objects\n",
        "H = 1.0 * sz + 0.1 * sy\n",
        "print('Qibit Hamilton = \\n', H)"
      ],
      "execution_count": 24,
      "outputs": [
        {
          "output_type": "stream",
          "text": [
            "Qibit Hamilton = \n",
            " Quantum object: dims = [[2], [2]], shape = (2, 2), type = oper, isherm = True\n",
            "Qobj data =\n",
            "[[ 1.+0.j   0.-0.1j]\n",
            " [ 0.+0.1j -1.+0.j ]]\n"
          ],
          "name": "stdout"
        }
      ]
    },
    {
      "metadata": {
        "id": "wQHaVRoGx6qF",
        "colab_type": "code",
        "colab": {
          "base_uri": "https://localhost:8080/",
          "height": 90
        },
        "outputId": "0054f4a2-bf03-49fd-a2c3-a9686669d756"
      },
      "cell_type": "code",
      "source": [
        "# the hermitian conjugate\n",
        "sy.dag()\n",
        "print(sy.dag())"
      ],
      "execution_count": 30,
      "outputs": [
        {
          "output_type": "stream",
          "text": [
            "Quantum object: dims = [[2], [2]], shape = (2, 2), type = oper, isherm = True\n",
            "Qobj data =\n",
            "[[0.+0.j 0.-1.j]\n",
            " [0.+1.j 0.+0.j]]\n"
          ],
          "name": "stdout"
        }
      ]
    },
    {
      "metadata": {
        "id": "qw22tIBqyQ9I",
        "colab_type": "code",
        "colab": {
          "base_uri": "https://localhost:8080/",
          "height": 35
        },
        "outputId": "d5719176-626f-4167-d8e7-a88fb38f0c5f"
      },
      "cell_type": "code",
      "source": [
        "# the trace\n",
        "print(H.tr())"
      ],
      "execution_count": 31,
      "outputs": [
        {
          "output_type": "stream",
          "text": [
            "0.0\n"
          ],
          "name": "stdout"
        }
      ]
    },
    {
      "metadata": {
        "id": "xMkJPkV7yrSX",
        "colab_type": "code",
        "colab": {
          "base_uri": "https://localhost:8080/",
          "height": 35
        },
        "outputId": "8525ef26-7871-4d0f-978c-9ec1af347af4"
      },
      "cell_type": "code",
      "source": [
        "# Eigen energies\n",
        "H.eigenenergies()"
      ],
      "execution_count": 32,
      "outputs": [
        {
          "output_type": "execute_result",
          "data": {
            "text/plain": [
              "array([-1.00498756,  1.00498756])"
            ]
          },
          "metadata": {
            "tags": []
          },
          "execution_count": 32
        }
      ]
    },
    {
      "metadata": {
        "id": "f2rhRL0C2OSd",
        "colab_type": "code",
        "colab": {
          "base_uri": "https://localhost:8080/",
          "height": 90
        },
        "outputId": "7c53345d-660e-4613-9884-97a3ad75d7f4"
      },
      "cell_type": "code",
      "source": [
        "# fundamental bais states (fock states of oscillator modes)\n",
        "\n",
        "N = 2 # number of tates in the Hilbert space\n",
        "n = 1 # the state that will occupied\n",
        "\n",
        "print(basis(N, n)) # equivalent to fock(N, n)"
      ],
      "execution_count": 35,
      "outputs": [
        {
          "output_type": "stream",
          "text": [
            "Quantum object: dims = [[2], [1]], shape = (2, 1), type = ket\n",
            "Qobj data =\n",
            "[[0.]\n",
            " [1.]]\n"
          ],
          "name": "stdout"
        }
      ]
    },
    {
      "metadata": {
        "id": "OgoXS8up26Iz",
        "colab_type": "code",
        "colab": {
          "base_uri": "https://localhost:8080/",
          "height": 126
        },
        "outputId": "ee5f71db-6053-4ad8-bc55-2010bef5c686"
      },
      "cell_type": "code",
      "source": [
        "print(fock(4, 2))"
      ],
      "execution_count": 39,
      "outputs": [
        {
          "output_type": "stream",
          "text": [
            "Quantum object: dims = [[4], [1]], shape = (4, 1), type = ket\n",
            "Qobj data =\n",
            "[[0.]\n",
            " [0.]\n",
            " [1.]\n",
            " [0.]]\n"
          ],
          "name": "stdout"
        }
      ]
    },
    {
      "metadata": {
        "id": "-uZRdzcQ4ivP",
        "colab_type": "code",
        "colab": {
          "base_uri": "https://localhost:8080/",
          "height": 235
        },
        "outputId": "bfea87bd-8440-4549-a989-154936f77178"
      },
      "cell_type": "code",
      "source": [
        "# a coherent state\n",
        "print(coherent(N = 10, alpha = 1.0))"
      ],
      "execution_count": 38,
      "outputs": [
        {
          "output_type": "stream",
          "text": [
            "Quantum object: dims = [[10], [1]], shape = (10, 1), type = ket\n",
            "Qobj data =\n",
            "[[0.60653066]\n",
            " [0.60653066]\n",
            " [0.42888194]\n",
            " [0.24761511]\n",
            " [0.12380753]\n",
            " [0.0553686 ]\n",
            " [0.02260303]\n",
            " [0.00854887]\n",
            " [0.00299672]\n",
            " [0.00110007]]\n"
          ],
          "name": "stdout"
        }
      ]
    },
    {
      "metadata": {
        "id": "leZXmCBF47QI",
        "colab_type": "text"
      },
      "cell_type": "markdown",
      "source": [
        "# Density Matrices"
      ]
    },
    {
      "metadata": {
        "id": "Yd2ybtkk4qY6",
        "colab_type": "code",
        "colab": {
          "base_uri": "https://localhost:8080/",
          "height": 145
        },
        "outputId": "430710a7-ad9a-4c63-923a-835488834d6d"
      },
      "cell_type": "code",
      "source": [
        "# a fock state as density matrix\n",
        "print(fock_dm(5,2)) # 5 = hilbert space size, 2 = state that is occupied"
      ],
      "execution_count": 40,
      "outputs": [
        {
          "output_type": "stream",
          "text": [
            "Quantum object: dims = [[5], [5]], shape = (5, 5), type = oper, isherm = True\n",
            "Qobj data =\n",
            "[[0. 0. 0. 0. 0.]\n",
            " [0. 0. 0. 0. 0.]\n",
            " [0. 0. 1. 0. 0.]\n",
            " [0. 0. 0. 0. 0.]\n",
            " [0. 0. 0. 0. 0.]]\n"
          ],
          "name": "stdout"
        }
      ]
    },
    {
      "metadata": {
        "id": "X4ogvKwk5TuK",
        "colab_type": "code",
        "colab": {
          "base_uri": "https://localhost:8080/",
          "height": 345
        },
        "outputId": "e23239e0-077d-4988-8a6c-9609cc354762"
      },
      "cell_type": "code",
      "source": [
        "# coherent state as density matrix\n",
        "print(coherent_dm(N = 8, alpha = 1.0))"
      ],
      "execution_count": 41,
      "outputs": [
        {
          "output_type": "stream",
          "text": [
            "Quantum object: dims = [[8], [8]], shape = (8, 8), type = oper, isherm = True\n",
            "Qobj data =\n",
            "[[3.67879439e-01 3.67879455e-01 2.60129900e-01 1.50187300e-01\n",
            "  7.50858773e-02 3.36199110e-02 1.35485515e-02 5.77267786e-03]\n",
            " [3.67879455e-01 3.67879470e-01 2.60129911e-01 1.50187306e-01\n",
            "  7.50858804e-02 3.36199124e-02 1.35485520e-02 5.77267810e-03]\n",
            " [2.60129900e-01 2.60129911e-01 1.83939513e-01 1.06198399e-01\n",
            "  5.30937031e-02 2.37728537e-02 9.58026722e-03 4.08189737e-03]\n",
            " [1.50187300e-01 1.50187306e-01 1.06198399e-01 6.13141770e-02\n",
            "  3.06539153e-02 1.37253761e-02 5.53121524e-03 2.35670388e-03]\n",
            " [7.50858773e-02 7.50858804e-02 5.30937031e-02 3.06539153e-02\n",
            "  1.53253712e-02 6.86197771e-03 2.76532136e-03 1.17822997e-03]\n",
            " [3.36199110e-02 3.36199124e-02 2.37728537e-02 1.37253761e-02\n",
            "  6.86197771e-03 3.07246966e-03 1.23818035e-03 5.27555757e-04]\n",
            " [1.35485515e-02 1.35485520e-02 9.58026722e-03 5.53121524e-03\n",
            "  2.76532136e-03 1.23818035e-03 4.98976640e-04 2.12600691e-04]\n",
            " [5.77267786e-03 5.77267810e-03 4.08189737e-03 2.35670388e-03\n",
            "  1.17822997e-03 5.27555757e-04 2.12600691e-04 9.05835068e-05]]\n"
          ],
          "name": "stdout"
        }
      ]
    },
    {
      "metadata": {
        "id": "8tHmSj0y5ltG",
        "colab_type": "code",
        "colab": {
          "base_uri": "https://localhost:8080/",
          "height": 345
        },
        "outputId": "b891d52d-2cdc-4c97-f5c5-77832d327813"
      },
      "cell_type": "code",
      "source": [
        "# the thermal state\n",
        "n = 1 # the average number of thermal photons\n",
        "print(thermal_dm(8, n))"
      ],
      "execution_count": 42,
      "outputs": [
        {
          "output_type": "stream",
          "text": [
            "Quantum object: dims = [[8], [8]], shape = (8, 8), type = oper, isherm = True\n",
            "Qobj data =\n",
            "[[0.50196078 0.         0.         0.         0.         0.\n",
            "  0.         0.        ]\n",
            " [0.         0.25098039 0.         0.         0.         0.\n",
            "  0.         0.        ]\n",
            " [0.         0.         0.1254902  0.         0.         0.\n",
            "  0.         0.        ]\n",
            " [0.         0.         0.         0.0627451  0.         0.\n",
            "  0.         0.        ]\n",
            " [0.         0.         0.         0.         0.03137255 0.\n",
            "  0.         0.        ]\n",
            " [0.         0.         0.         0.         0.         0.01568627\n",
            "  0.         0.        ]\n",
            " [0.         0.         0.         0.         0.         0.\n",
            "  0.00784314 0.        ]\n",
            " [0.         0.         0.         0.         0.         0.\n",
            "  0.         0.00392157]]\n"
          ],
          "name": "stdout"
        }
      ]
    },
    {
      "metadata": {
        "id": "2icXtH296rcR",
        "colab_type": "text"
      },
      "cell_type": "markdown",
      "source": [
        "## Operators"
      ]
    },
    {
      "metadata": {
        "id": "XczZTUS96gPS",
        "colab_type": "code",
        "colab": {
          "base_uri": "https://localhost:8080/",
          "height": 90
        },
        "outputId": "5e36e7d0-a2cc-4d47-d239-55a8995e2ac7"
      },
      "cell_type": "code",
      "source": [
        "# Pauli sigma x\n",
        "print(sigmax())"
      ],
      "execution_count": 43,
      "outputs": [
        {
          "output_type": "stream",
          "text": [
            "Quantum object: dims = [[2], [2]], shape = (2, 2), type = oper, isherm = True\n",
            "Qobj data =\n",
            "[[0. 1.]\n",
            " [1. 0.]]\n"
          ],
          "name": "stdout"
        }
      ]
    },
    {
      "metadata": {
        "id": "LycJFptk6zBf",
        "colab_type": "code",
        "colab": {
          "base_uri": "https://localhost:8080/",
          "height": 90
        },
        "outputId": "2430e92e-41d2-4857-b26c-f829c4e2f13f"
      },
      "cell_type": "code",
      "source": [
        "# Pauli sigma y\n",
        "print(sigmay())"
      ],
      "execution_count": 45,
      "outputs": [
        {
          "output_type": "stream",
          "text": [
            "Quantum object: dims = [[2], [2]], shape = (2, 2), type = oper, isherm = True\n",
            "Qobj data =\n",
            "[[0.+0.j 0.-1.j]\n",
            " [0.+1.j 0.+0.j]]\n"
          ],
          "name": "stdout"
        }
      ]
    },
    {
      "metadata": {
        "id": "mqwa39zf64cy",
        "colab_type": "code",
        "colab": {
          "base_uri": "https://localhost:8080/",
          "height": 90
        },
        "outputId": "6b6dc566-8e08-4f76-8a3c-e2ab8981ee0d"
      },
      "cell_type": "code",
      "source": [
        "# Pauli sigma z \n",
        "print(sigmaz())"
      ],
      "execution_count": 46,
      "outputs": [
        {
          "output_type": "stream",
          "text": [
            "Quantum object: dims = [[2], [2]], shape = (2, 2), type = oper, isherm = True\n",
            "Qobj data =\n",
            "[[ 1.  0.]\n",
            " [ 0. -1.]]\n"
          ],
          "name": "stdout"
        }
      ]
    },
    {
      "metadata": {
        "id": "kCTJj8Kk8ihd",
        "colab_type": "text"
      },
      "cell_type": "markdown",
      "source": [
        "##  Harmonic oscillator operators"
      ]
    },
    {
      "metadata": {
        "id": "NwWeDT0_8cZh",
        "colab_type": "code",
        "colab": {
          "base_uri": "https://localhost:8080/",
          "height": 345
        },
        "outputId": "78ec8be3-92de-42ba-c1d8-1d8f0d18f937"
      },
      "cell_type": "code",
      "source": [
        "# annihilation operator\n",
        "\n",
        "print(destroy(N = 8)) # N = number of fock states included in the Hilbert space"
      ],
      "execution_count": 49,
      "outputs": [
        {
          "output_type": "stream",
          "text": [
            "Quantum object: dims = [[8], [8]], shape = (8, 8), type = oper, isherm = False\n",
            "Qobj data =\n",
            "[[0.         1.         0.         0.         0.         0.\n",
            "  0.         0.        ]\n",
            " [0.         0.         1.41421356 0.         0.         0.\n",
            "  0.         0.        ]\n",
            " [0.         0.         0.         1.73205081 0.         0.\n",
            "  0.         0.        ]\n",
            " [0.         0.         0.         0.         2.         0.\n",
            "  0.         0.        ]\n",
            " [0.         0.         0.         0.         0.         2.23606798\n",
            "  0.         0.        ]\n",
            " [0.         0.         0.         0.         0.         0.\n",
            "  2.44948974 0.        ]\n",
            " [0.         0.         0.         0.         0.         0.\n",
            "  0.         2.64575131]\n",
            " [0.         0.         0.         0.         0.         0.\n",
            "  0.         0.        ]]\n"
          ],
          "name": "stdout"
        }
      ]
    },
    {
      "metadata": {
        "id": "UrdzIRxn852o",
        "colab_type": "code",
        "colab": {
          "base_uri": "https://localhost:8080/",
          "height": 345
        },
        "outputId": "96191a1e-e576-4c35-9fdc-cbca0ed8210a"
      },
      "cell_type": "code",
      "source": [
        "# creation operator\n",
        "\n",
        "print(create(N = 8)) # equivalent to destroy(5).dag()"
      ],
      "execution_count": 50,
      "outputs": [
        {
          "output_type": "stream",
          "text": [
            "Quantum object: dims = [[8], [8]], shape = (8, 8), type = oper, isherm = False\n",
            "Qobj data =\n",
            "[[0.         0.         0.         0.         0.         0.\n",
            "  0.         0.        ]\n",
            " [1.         0.         0.         0.         0.         0.\n",
            "  0.         0.        ]\n",
            " [0.         1.41421356 0.         0.         0.         0.\n",
            "  0.         0.        ]\n",
            " [0.         0.         1.73205081 0.         0.         0.\n",
            "  0.         0.        ]\n",
            " [0.         0.         0.         2.         0.         0.\n",
            "  0.         0.        ]\n",
            " [0.         0.         0.         0.         2.23606798 0.\n",
            "  0.         0.        ]\n",
            " [0.         0.         0.         0.         0.         2.44948974\n",
            "  0.         0.        ]\n",
            " [0.         0.         0.         0.         0.         0.\n",
            "  2.64575131 0.        ]]\n"
          ],
          "name": "stdout"
        }
      ]
    },
    {
      "metadata": {
        "id": "tzVTymHx-OWG",
        "colab_type": "code",
        "colab": {
          "base_uri": "https://localhost:8080/",
          "height": 345
        },
        "outputId": "bffc5839-078e-4332-83dd-a7f87dff7449"
      },
      "cell_type": "code",
      "source": [
        "# the position operator is easily constructed from the annihilation operator\n",
        "a = destroy(8)\n",
        "x = a + a.dag()\n",
        "print(x)"
      ],
      "execution_count": 51,
      "outputs": [
        {
          "output_type": "stream",
          "text": [
            "Quantum object: dims = [[8], [8]], shape = (8, 8), type = oper, isherm = True\n",
            "Qobj data =\n",
            "[[0.         1.         0.         0.         0.         0.\n",
            "  0.         0.        ]\n",
            " [1.         0.         1.41421356 0.         0.         0.\n",
            "  0.         0.        ]\n",
            " [0.         1.41421356 0.         1.73205081 0.         0.\n",
            "  0.         0.        ]\n",
            " [0.         0.         1.73205081 0.         2.         0.\n",
            "  0.         0.        ]\n",
            " [0.         0.         0.         2.         0.         2.23606798\n",
            "  0.         0.        ]\n",
            " [0.         0.         0.         0.         2.23606798 0.\n",
            "  2.44948974 0.        ]\n",
            " [0.         0.         0.         0.         0.         2.44948974\n",
            "  0.         2.64575131]\n",
            " [0.         0.         0.         0.         0.         0.\n",
            "  2.64575131 0.        ]]\n"
          ],
          "name": "stdout"
        }
      ]
    },
    {
      "metadata": {
        "id": "s-KsD_R6-1Lr",
        "colab_type": "text"
      },
      "cell_type": "markdown",
      "source": [
        "## Using Qobj instances to check some commutation relations"
      ]
    },
    {
      "metadata": {
        "id": "mfcAxPgK-nzP",
        "colab_type": "code",
        "colab": {}
      },
      "cell_type": "code",
      "source": [
        "def commutator(op1, op2):\n",
        "  return op1 * op2 - op2 * op1"
      ],
      "execution_count": 0,
      "outputs": []
    },
    {
      "metadata": {
        "id": "9EYFD997_QS7",
        "colab_type": "code",
        "colab": {
          "base_uri": "https://localhost:8080/",
          "height": 145
        },
        "outputId": "7e3d5be5-8298-49f3-a159-3273faeac552"
      },
      "cell_type": "code",
      "source": [
        "a = destroy(5)\n",
        "\n",
        "print(commutator(a, a.dag()))"
      ],
      "execution_count": 55,
      "outputs": [
        {
          "output_type": "stream",
          "text": [
            "Quantum object: dims = [[5], [5]], shape = (5, 5), type = oper, isherm = True\n",
            "Qobj data =\n",
            "[[ 1.  0.  0.  0.  0.]\n",
            " [ 0.  1.  0.  0.  0.]\n",
            " [ 0.  0.  1.  0.  0.]\n",
            " [ 0.  0.  0.  1.  0.]\n",
            " [ 0.  0.  0.  0. -4.]]\n"
          ],
          "name": "stdout"
        }
      ]
    },
    {
      "metadata": {
        "id": "CvRYfaPABIHp",
        "colab_type": "code",
        "colab": {}
      },
      "cell_type": "code",
      "source": [
        "from math import sqrt"
      ],
      "execution_count": 0,
      "outputs": []
    },
    {
      "metadata": {
        "id": "39tYjnFSAevb",
        "colab_type": "code",
        "colab": {}
      },
      "cell_type": "code",
      "source": [
        "x = (a + a.dag())/sqrt(2)\n",
        "p = -1j * (a - a.dag())/sqrt(2)"
      ],
      "execution_count": 0,
      "outputs": []
    },
    {
      "metadata": {
        "id": "40bvEeCoBD_e",
        "colab_type": "code",
        "colab": {
          "base_uri": "https://localhost:8080/",
          "height": 145
        },
        "outputId": "afed444d-e31c-4773-fa82-341aa2badf2d"
      },
      "cell_type": "code",
      "source": [
        "print(commutator(x, p))"
      ],
      "execution_count": 62,
      "outputs": [
        {
          "output_type": "stream",
          "text": [
            "Quantum object: dims = [[5], [5]], shape = (5, 5), type = oper, isherm = False\n",
            "Qobj data =\n",
            "[[0.+1.j 0.+0.j 0.+0.j 0.+0.j 0.+0.j]\n",
            " [0.+0.j 0.+1.j 0.+0.j 0.+0.j 0.+0.j]\n",
            " [0.+0.j 0.+0.j 0.+1.j 0.+0.j 0.+0.j]\n",
            " [0.+0.j 0.+0.j 0.+0.j 0.+1.j 0.+0.j]\n",
            " [0.+0.j 0.+0.j 0.+0.j 0.+0.j 0.-4.j]]\n"
          ],
          "name": "stdout"
        }
      ]
    },
    {
      "metadata": {
        "id": "ELWZyZBFBX45",
        "colab_type": "code",
        "colab": {
          "base_uri": "https://localhost:8080/",
          "height": 90
        },
        "outputId": "427af230-0a0f-4f37-c3f9-ffc38d30f373"
      },
      "cell_type": "code",
      "source": [
        "print(commutator(sigmax(), sigmay()) - 2j * sigmaz())"
      ],
      "execution_count": 63,
      "outputs": [
        {
          "output_type": "stream",
          "text": [
            "Quantum object: dims = [[2], [2]], shape = (2, 2), type = oper, isherm = True\n",
            "Qobj data =\n",
            "[[0. 0.]\n",
            " [0. 0.]]\n"
          ],
          "name": "stdout"
        }
      ]
    },
    {
      "metadata": {
        "id": "jSDa8sIOC44q",
        "colab_type": "code",
        "colab": {
          "base_uri": "https://localhost:8080/",
          "height": 90
        },
        "outputId": "e3f3ea70-00ec-431a-8cc3-5987930ba3a5"
      },
      "cell_type": "code",
      "source": [
        "print(-1j * sigmax() * sigmay() * sigmaz())"
      ],
      "execution_count": 65,
      "outputs": [
        {
          "output_type": "stream",
          "text": [
            "Quantum object: dims = [[2], [2]], shape = (2, 2), type = oper, isherm = True\n",
            "Qobj data =\n",
            "[[1. 0.]\n",
            " [0. 1.]]\n"
          ],
          "name": "stdout"
        }
      ]
    },
    {
      "metadata": {
        "id": "gLcK9J69DuKM",
        "colab_type": "code",
        "colab": {
          "base_uri": "https://localhost:8080/",
          "height": 35
        },
        "outputId": "ce0c20b1-fbc4-428d-a1c1-5845db6170ef"
      },
      "cell_type": "code",
      "source": [
        "sigmax()**2 == sigmay()**2 == sigmaz()**2 == qeye(2)"
      ],
      "execution_count": 69,
      "outputs": [
        {
          "output_type": "execute_result",
          "data": {
            "text/plain": [
              "True"
            ]
          },
          "metadata": {
            "tags": []
          },
          "execution_count": 69
        }
      ]
    },
    {
      "metadata": {
        "id": "DiP-2cO-EiCS",
        "colab_type": "text"
      },
      "cell_type": "markdown",
      "source": [
        "## Composite systems"
      ]
    },
    {
      "metadata": {
        "id": "8Q-S8UDyD6Z2",
        "colab_type": "code",
        "colab": {
          "base_uri": "https://localhost:8080/",
          "height": 126
        },
        "outputId": "a3dac220-1fd5-42c5-a29d-cc5a281b73b4"
      },
      "cell_type": "code",
      "source": [
        "sz1 = tensor(sigmaz(), qeye(2))\n",
        "print(sz1)"
      ],
      "execution_count": 70,
      "outputs": [
        {
          "output_type": "stream",
          "text": [
            "Quantum object: dims = [[2, 2], [2, 2]], shape = (4, 4), type = oper, isherm = True\n",
            "Qobj data =\n",
            "[[ 1.  0.  0.  0.]\n",
            " [ 0.  1.  0.  0.]\n",
            " [ 0.  0. -1.  0.]\n",
            " [ 0.  0.  0. -1.]]\n"
          ],
          "name": "stdout"
        }
      ]
    },
    {
      "metadata": {
        "id": "kiu8jrThI6jk",
        "colab_type": "code",
        "colab": {}
      },
      "cell_type": "code",
      "source": [
        "psi1 = tensor(basis(N,1), basis(N,0)) # excited first qubit\n",
        "psi2 = tensor(basis(N,0), basis(N,1)) # excited second qubit"
      ],
      "execution_count": 0,
      "outputs": []
    },
    {
      "metadata": {
        "id": "M2PfKhamJkJK",
        "colab_type": "code",
        "colab": {
          "base_uri": "https://localhost:8080/",
          "height": 35
        },
        "outputId": "65cfb139-f6e0-42f5-d04d-5b40fc6af96c"
      },
      "cell_type": "code",
      "source": [
        "sz1 * psi1 == psi1 # this should not be true, because sz1 should flip the sign of the excited state of psi1"
      ],
      "execution_count": 72,
      "outputs": [
        {
          "output_type": "execute_result",
          "data": {
            "text/plain": [
              "False"
            ]
          },
          "metadata": {
            "tags": []
          },
          "execution_count": 72
        }
      ]
    },
    {
      "metadata": {
        "id": "jkumF52GKnEu",
        "colab_type": "code",
        "colab": {
          "base_uri": "https://localhost:8080/",
          "height": 35
        },
        "outputId": "d005c0a0-efb1-4e70-c024-0cd975971a02"
      },
      "cell_type": "code",
      "source": [
        "sz1 * psi2 == psi2 # this should be true, because sz1 should leave psi2 unaffected"
      ],
      "execution_count": 73,
      "outputs": [
        {
          "output_type": "execute_result",
          "data": {
            "text/plain": [
              "True"
            ]
          },
          "metadata": {
            "tags": []
          },
          "execution_count": 73
        }
      ]
    },
    {
      "metadata": {
        "id": "_0iqg5zJLIzN",
        "colab_type": "code",
        "colab": {
          "base_uri": "https://localhost:8080/",
          "height": 126
        },
        "outputId": "55eb4ade-f227-4997-dc9e-b35486d12310"
      },
      "cell_type": "code",
      "source": [
        "sz2 = tensor(qeye(2), sigmaz())\n",
        "print(sz2)"
      ],
      "execution_count": 74,
      "outputs": [
        {
          "output_type": "stream",
          "text": [
            "Quantum object: dims = [[2, 2], [2, 2]], shape = (4, 4), type = oper, isherm = True\n",
            "Qobj data =\n",
            "[[ 1.  0.  0.  0.]\n",
            " [ 0. -1.  0.  0.]\n",
            " [ 0.  0.  1.  0.]\n",
            " [ 0.  0.  0. -1.]]\n"
          ],
          "name": "stdout"
        }
      ]
    },
    {
      "metadata": {
        "id": "GqZbx1VgMR1i",
        "colab_type": "code",
        "colab": {
          "base_uri": "https://localhost:8080/",
          "height": 126
        },
        "outputId": "b2233044-b413-44f8-cf55-d8852cace61e"
      },
      "cell_type": "code",
      "source": [
        "print(tensor(sigmax(), sigmax()))"
      ],
      "execution_count": 75,
      "outputs": [
        {
          "output_type": "stream",
          "text": [
            "Quantum object: dims = [[2, 2], [2, 2]], shape = (4, 4), type = oper, isherm = True\n",
            "Qobj data =\n",
            "[[0. 0. 0. 1.]\n",
            " [0. 0. 1. 0.]\n",
            " [0. 1. 0. 0.]\n",
            " [1. 0. 0. 0.]]\n"
          ],
          "name": "stdout"
        }
      ]
    },
    {
      "metadata": {
        "id": "tKq1rIbPNJqR",
        "colab_type": "code",
        "colab": {
          "base_uri": "https://localhost:8080/",
          "height": 126
        },
        "outputId": "40a92a17-64c1-4b1d-91db-4bf40a433846"
      },
      "cell_type": "code",
      "source": [
        "epsilon = [1.0, 1.0]\n",
        "g = 0.1\n",
        "\n",
        "sz1 = tensor(sigmaz(), qeye(2))\n",
        "sz2 = tensor(qeye(2), sigmaz())\n",
        "\n",
        "H = epsilon[0] * sz1 + epsilon[1] * sz2 + g * tensor(sigmax(), sigmax())\n",
        "print(H)"
      ],
      "execution_count": 76,
      "outputs": [
        {
          "output_type": "stream",
          "text": [
            "Quantum object: dims = [[2, 2], [2, 2]], shape = (4, 4), type = oper, isherm = True\n",
            "Qobj data =\n",
            "[[ 2.   0.   0.   0.1]\n",
            " [ 0.   0.   0.1  0. ]\n",
            " [ 0.   0.1  0.   0. ]\n",
            " [ 0.1  0.   0.  -2. ]]\n"
          ],
          "name": "stdout"
        }
      ]
    },
    {
      "metadata": {
        "id": "-TuMAk_QRjBR",
        "colab_type": "code",
        "colab": {
          "base_uri": "https://localhost:8080/",
          "height": 417
        },
        "outputId": "0e1cce51-e2cc-4da0-c619-f06e7f8c18a2"
      },
      "cell_type": "code",
      "source": [
        "wc = 1.0 # cavity frequency\n",
        "wa = 1.0 # qubit/atom frequency\n",
        "g = 0.1 # coupling strength\n",
        "\n",
        "# cavity mode operator\n",
        "a = tensor(destroy(5), qeye(2))\n",
        "\n",
        "# qubit/atom operators\n",
        "sz = tensor(qeye(5), sigmaz()) # sigma-z operator\n",
        "sm = tensor(qeye(5), destroy(2)) # sigma-minus operator\n",
        "\n",
        "# the Jaynes-Cumming Hamiltonian\n",
        "H = wc * a.dag() * a -0.5 * wa * sz + g * (a * sm.dag() + a.dag() * sm)\n",
        "print(H)"
      ],
      "execution_count": 77,
      "outputs": [
        {
          "output_type": "stream",
          "text": [
            "Quantum object: dims = [[5, 2], [5, 2]], shape = (10, 10), type = oper, isherm = True\n",
            "Qobj data =\n",
            "[[-0.5         0.          0.          0.          0.          0.\n",
            "   0.          0.          0.          0.        ]\n",
            " [ 0.          0.5         0.1         0.          0.          0.\n",
            "   0.          0.          0.          0.        ]\n",
            " [ 0.          0.1         0.5         0.          0.          0.\n",
            "   0.          0.          0.          0.        ]\n",
            " [ 0.          0.          0.          1.5         0.14142136  0.\n",
            "   0.          0.          0.          0.        ]\n",
            " [ 0.          0.          0.          0.14142136  1.5         0.\n",
            "   0.          0.          0.          0.        ]\n",
            " [ 0.          0.          0.          0.          0.          2.5\n",
            "   0.17320508  0.          0.          0.        ]\n",
            " [ 0.          0.          0.          0.          0.          0.17320508\n",
            "   2.5         0.          0.          0.        ]\n",
            " [ 0.          0.          0.          0.          0.          0.\n",
            "   0.          3.5         0.2         0.        ]\n",
            " [ 0.          0.          0.          0.          0.          0.\n",
            "   0.          0.2         3.5         0.        ]\n",
            " [ 0.          0.          0.          0.          0.          0.\n",
            "   0.          0.          0.          4.5       ]]\n"
          ],
          "name": "stdout"
        }
      ]
    },
    {
      "metadata": {
        "id": "0wfxF84DWDas",
        "colab_type": "code",
        "colab": {
          "base_uri": "https://localhost:8080/",
          "height": 163
        },
        "outputId": "1d54badd-b8d2-48fb-cbb9-2fe989099034"
      },
      "cell_type": "code",
      "source": [
        "a = tensor(destroy(3), qeye(2))\n",
        "sp = tensor(qeye(3), create(2))\n",
        "print(a * sp)"
      ],
      "execution_count": 78,
      "outputs": [
        {
          "output_type": "stream",
          "text": [
            "Quantum object: dims = [[3, 2], [3, 2]], shape = (6, 6), type = oper, isherm = False\n",
            "Qobj data =\n",
            "[[0.         0.         0.         0.         0.         0.        ]\n",
            " [0.         0.         1.         0.         0.         0.        ]\n",
            " [0.         0.         0.         0.         0.         0.        ]\n",
            " [0.         0.         0.         0.         1.41421356 0.        ]\n",
            " [0.         0.         0.         0.         0.         0.        ]\n",
            " [0.         0.         0.         0.         0.         0.        ]]\n"
          ],
          "name": "stdout"
        }
      ]
    },
    {
      "metadata": {
        "id": "ol32sWRGWyug",
        "colab_type": "code",
        "colab": {
          "base_uri": "https://localhost:8080/",
          "height": 163
        },
        "outputId": "eddf08ac-c2cf-42ca-b0b6-e5797b553a4e"
      },
      "cell_type": "code",
      "source": [
        "print(tensor(destroy(3), create(2)))"
      ],
      "execution_count": 80,
      "outputs": [
        {
          "output_type": "stream",
          "text": [
            "Quantum object: dims = [[3, 2], [3, 2]], shape = (6, 6), type = oper, isherm = False\n",
            "Qobj data =\n",
            "[[0.         0.         0.         0.         0.         0.        ]\n",
            " [0.         0.         1.         0.         0.         0.        ]\n",
            " [0.         0.         0.         0.         0.         0.        ]\n",
            " [0.         0.         0.         0.         1.41421356 0.        ]\n",
            " [0.         0.         0.         0.         0.         0.        ]\n",
            " [0.         0.         0.         0.         0.         0.        ]]\n"
          ],
          "name": "stdout"
        }
      ]
    },
    {
      "metadata": {
        "id": "csX-R8QAXNpA",
        "colab_type": "text"
      },
      "cell_type": "markdown",
      "source": [
        "## Unitary dynamics"
      ]
    },
    {
      "metadata": {
        "id": "k6xXEgIJW-WE",
        "colab_type": "code",
        "colab": {
          "base_uri": "https://localhost:8080/",
          "height": 90
        },
        "outputId": "f5437639-bd24-41f8-ef5c-e13b786c6ab4"
      },
      "cell_type": "code",
      "source": [
        "# Hamiltonian\n",
        "H = sigmax()\n",
        "\n",
        "# initial state\n",
        "psi0 = basis(2,0)\n",
        "\n",
        "# list of times for which the solver should store the state vector\n",
        "tlist = np.linspace(0, 10, 100)\n",
        "\n",
        "result = mesolve(H, psi0, tlist, [], [])\n",
        "print(result)"
      ],
      "execution_count": 82,
      "outputs": [
        {
          "output_type": "stream",
          "text": [
            "Result object with sesolve data.\n",
            "--------------------------------\n",
            "states = True\n",
            "num_collapse = 0\n"
          ],
          "name": "stdout"
        }
      ]
    },
    {
      "metadata": {
        "id": "U_YDCtc-Yl0n",
        "colab_type": "code",
        "colab": {
          "base_uri": "https://localhost:8080/",
          "height": 35
        },
        "outputId": "7c0682c4-f5fe-42ba-b25e-fea302f3aec6"
      },
      "cell_type": "code",
      "source": [
        "len(result.states)"
      ],
      "execution_count": 83,
      "outputs": [
        {
          "output_type": "execute_result",
          "data": {
            "text/plain": [
              "100"
            ]
          },
          "metadata": {
            "tags": []
          },
          "execution_count": 83
        }
      ]
    },
    {
      "metadata": {
        "id": "lgAIsPPDZZy5",
        "colab_type": "code",
        "colab": {
          "base_uri": "https://localhost:8080/",
          "height": 90
        },
        "outputId": "4a38f3b4-0c9d-4da9-e19c-a44deeef44cf"
      },
      "cell_type": "code",
      "source": [
        "print(result.states[-1]) # the final state"
      ],
      "execution_count": 85,
      "outputs": [
        {
          "output_type": "stream",
          "text": [
            "Quantum object: dims = [[2], [1]], shape = (2, 1), type = ket\n",
            "Qobj data =\n",
            "[[-0.8390774+0.j        ]\n",
            " [ 0.       +0.54401206j]]\n"
          ],
          "name": "stdout"
        }
      ]
    },
    {
      "metadata": {
        "id": "H9Do1ERzZmIF",
        "colab_type": "text"
      },
      "cell_type": "markdown",
      "source": [
        "## Expectation values"
      ]
    },
    {
      "metadata": {
        "id": "_eW6bh-_ZdHp",
        "colab_type": "code",
        "colab": {
          "base_uri": "https://localhost:8080/",
          "height": 35
        },
        "outputId": "02525db5-949c-419e-dbd7-520d49b5b7c7"
      },
      "cell_type": "code",
      "source": [
        "expect(sigmaz(), result.states[-1])"
      ],
      "execution_count": 86,
      "outputs": [
        {
          "output_type": "execute_result",
          "data": {
            "text/plain": [
              "0.40810176186454994"
            ]
          },
          "metadata": {
            "tags": []
          },
          "execution_count": 86
        }
      ]
    },
    {
      "metadata": {
        "id": "-uxmXs5xZwvH",
        "colab_type": "code",
        "colab": {
          "base_uri": "https://localhost:8080/",
          "height": 381
        },
        "outputId": "586ae938-0f16-469a-8ace-a2e93df21a60"
      },
      "cell_type": "code",
      "source": [
        "expect(sigmaz(), result.states)"
      ],
      "execution_count": 87,
      "outputs": [
        {
          "output_type": "execute_result",
          "data": {
            "text/plain": [
              "array([ 1.        ,  0.97966324,  0.91948013,  0.82189857,  0.69088756,\n",
              "        0.53177579,  0.3510349 ,  0.15601625, -0.04534808, -0.24486795,\n",
              "       -0.43442821, -0.60631884, -0.75354841, -0.87012859, -0.95131766,\n",
              "       -0.99381332, -0.99588712, -0.95745468, -0.88007921, -0.76690787,\n",
              "       -0.62254375, -0.45285867, -0.26475429, -0.06588149,  0.13567091,\n",
              "        0.33170513,  0.51424779,  0.67587427,  0.81001063,  0.91120109,\n",
              "        0.97532984,  0.99978853,  0.9835823 ,  0.92737033,  0.83343897,\n",
              "        0.70560878,  0.54907906,  0.37021643,  0.17629587, -0.02479521,\n",
              "       -0.22487778, -0.41581382, -0.58983733, -0.73987014, -0.85980992,\n",
              "       -0.94477826, -0.9913192 , -0.99753971, -0.96318677, -0.88965766,\n",
              "       -0.77994308, -0.63850553, -0.4710978 , -0.28452892, -0.08638732,\n",
              "        0.11526793,  0.31223484,  0.49650212,  0.660575  ,  0.79778003,\n",
              "        0.90253662,  0.97058393,  0.99915421,  0.98708537,  0.9348683 ,\n",
              "        0.84462688,  0.72003156,  0.56615011,  0.38924141,  0.19650096,\n",
              "       -0.00423183, -0.20479249, -0.39702355, -0.57310633, -0.72587894,\n",
              "       -0.84912758, -0.93783928, -0.9884058 , -0.99877041, -0.9685115 ,\n",
              "       -0.89885984, -0.79264843, -0.65419728, -0.4891377 , -0.30418323,\n",
              "       -0.10685663,  0.09481617,  0.29263248,  0.47854644,  0.64499632,\n",
              "        0.785212  ,  0.89349043,  0.96542751,  0.9980973 ,  0.99017096,\n",
              "        0.94197089,  0.85545757,  0.73414984,  0.58298172,  0.40810176])"
            ]
          },
          "metadata": {
            "tags": []
          },
          "execution_count": 87
        }
      ]
    },
    {
      "metadata": {
        "id": "0BpC3AQfZ106",
        "colab_type": "code",
        "colab": {
          "base_uri": "https://localhost:8080/",
          "height": 306
        },
        "outputId": "1eb7e088-1bdf-47a6-e363-1618ffdec8a9"
      },
      "cell_type": "code",
      "source": [
        "fig, axes = plt.subplots(1, 1)\n",
        "axes.plot(tlist, expect(sigmaz(), result.states))\n",
        "\n",
        "axes.set_xlabel(r'$t$', fontsize = 20)\n",
        "axes.set_ylabel(r'$\\left<\\sigma_z\\right>$', fontsize = 20)"
      ],
      "execution_count": 90,
      "outputs": [
        {
          "output_type": "execute_result",
          "data": {
            "text/plain": [
              "Text(0, 0.5, '$\\\\left<\\\\sigma_z\\\\right>$')"
            ]
          },
          "metadata": {
            "tags": []
          },
          "execution_count": 90
        },
        {
          "output_type": "display_data",
          "data": {
            "image/png": "[encoded data removed]",
            "text/plain": [
              "<Figure size 432x288 with 1 Axes>"
            ]
          },
          "metadata": {
            "tags": []
          }
        }
      ]
    },
    {
      "metadata": {
        "id": "o9Hwallrc-Xj",
        "colab_type": "code",
        "colab": {}
      },
      "cell_type": "code",
      "source": [
        "result = mesolve(H, psi0, tlist, [], [sigmax(), sigmay(), sigmaz()])"
      ],
      "execution_count": 0,
      "outputs": []
    },
    {
      "metadata": {
        "id": "Nq5HPNE5eCR8",
        "colab_type": "code",
        "colab": {
          "base_uri": "https://localhost:8080/",
          "height": 306
        },
        "outputId": "5d60a610-febf-429e-9e99-f5183f512879"
      },
      "cell_type": "code",
      "source": [
        "fig, axes = plt.subplots(1,1)\n",
        "\n",
        "axes.plot(tlist, result.expect[2], label = r'$\\left<\\sigma_z\\right>$')\n",
        "axes.plot(tlist, result.expect[1], label = r'$\\left<\\sigma_y\\right>$')\n",
        "axes.plot(tlist, result.expect[0], label = r'$\\left<\\sigma_x\\right>$')\n",
        "\n",
        "axes.set_xlabel(r'$t$', fontsize = 20)\n",
        "axes.legend(loc = 2)"
      ],
      "execution_count": 94,
      "outputs": [
        {
          "output_type": "execute_result",
          "data": {
            "text/plain": [
              "<matplotlib.legend.Legend at 0x7f2ff1d42e48>"
            ]
          },
          "metadata": {
            "tags": []
          },
          "execution_count": 94
        },
        {
          "output_type": "display_data",
          "data": {
            "image/png": "[encoded data removed]",
            "text/plain": [
              "<Figure size 432x288 with 1 Axes>"
            ]
          },
          "metadata": {
            "tags": []
          }
        }
      ]
    },
    {
      "metadata": {
        "id": "5LHdIGIamJW3",
        "colab_type": "text"
      },
      "cell_type": "markdown",
      "source": [
        "# Dissipative dynamics"
      ]
    },
    {
      "metadata": {
        "id": "aY8w1lkMlyH0",
        "colab_type": "code",
        "colab": {}
      },
      "cell_type": "code",
      "source": [
        "w = 1.0 # oscillator frequency\n",
        "kappa = 0.1 # relaxation rate\n",
        "a = destroy(10) # oscillator annihilation operator\n",
        "rho0 = fock_dm(10, 5) # initial state, fock state with 5 photos\n",
        "H = w * a.dag() * a # Hamiltonian\n",
        "\n",
        "# a list of collapse operators\n",
        "c_ops = [sqrt(kappa) * a]"
      ],
      "execution_count": 0,
      "outputs": []
    },
    {
      "metadata": {
        "id": "vuxjNoT1n6KD",
        "colab_type": "code",
        "colab": {}
      },
      "cell_type": "code",
      "source": [
        "tlist = np.linspace(0, 50, 100)\n",
        "\n",
        "# request that the solver return the expectation value of the photon number\n",
        "# state operator a.dog() * a\n",
        "result = mesolve(H, rho0, tlist, c_ops, [a.dag() * a])"
      ],
      "execution_count": 0,
      "outputs": []
    },
    {
      "metadata": {
        "id": "O90pLi9Fq_PA",
        "colab_type": "code",
        "colab": {
          "base_uri": "https://localhost:8080/",
          "height": 306
        },
        "outputId": "7642cd33-8b05-4d9e-a280-a8d646372c17"
      },
      "cell_type": "code",
      "source": [
        "fig, axes = plt.subplots(1, 1)\n",
        "axes.plot(tlist, result.expect[0])\n",
        "axes.set_xlabel(r'$t$', fontsize = 20)\n",
        "axes.set_ylabel(r\"Photon number\", fontsize = 16)"
      ],
      "execution_count": 101,
      "outputs": [
        {
          "output_type": "execute_result",
          "data": {
            "text/plain": [
              "Text(0, 0.5, 'Photon number')"
            ]
          },
          "metadata": {
            "tags": []
          },
          "execution_count": 101
        },
        {
          "output_type": "display_data",
          "data": {
            "image/png": "[encoded data removed]",
            "text/plain": [
              "<Figure size 432x288 with 1 Axes>"
            ]
          },
          "metadata": {
            "tags": []
          }
        }
      ]
    },
    {
      "metadata": {
        "id": "rTkroZOJr2s1",
        "colab_type": "text"
      },
      "cell_type": "markdown",
      "source": [
        "## software versions"
      ]
    },
    {
      "metadata": {
        "id": "58-n0RpOrrZ2",
        "colab_type": "code",
        "colab": {
          "base_uri": "https://localhost:8080/",
          "height": 270
        },
        "outputId": "8f15a569-826a-44aa-e05c-dcf7fe5c05ae"
      },
      "cell_type": "code",
      "source": [
        "from qutip.ipynbtools import version_table\n",
        "version_table()"
      ],
      "execution_count": 102,
      "outputs": [
        {
          "output_type": "execute_result",
          "data": {
            "text/html": [
              "<table><tr><th>Software</th><th>Version</th></tr><tr><td>QuTiP</td><td>4.3.1</td></tr><tr><td>Numpy</td><td>1.14.6</td></tr><tr><td>SciPy</td><td>1.1.0</td></tr><tr><td>matplotlib</td><td>3.0.2</td></tr><tr><td>Cython</td><td>0.29.5</td></tr><tr><td>Number of CPUs</td><td>1</td></tr><tr><td>BLAS Info</td><td>OPENBLAS</td></tr><tr><td>IPython</td><td>5.5.0</td></tr><tr><td>Python</td><td>3.6.7 (default, Oct 22 2018, 11:32:17) \n",
              "[GCC 8.2.0]</td></tr><tr><td>OS</td><td>posix [linux]</td></tr><tr><td colspan='2'>Fri Mar 01 14:37:13 2019 UTC</td></tr></table>"
            ],
            "text/plain": [
              "<IPython.core.display.HTML object>"
            ]
          },
          "metadata": {
            "tags": []
          },
          "execution_count": 102
        }
      ]
    },
    {
      "metadata": {
        "id": "ZxAiKGJesAZ0",
        "colab_type": "code",
        "colab": {}
      },
      "cell_type": "code",
      "source": [
        ""
      ],
      "execution_count": 0,
      "outputs": []
    }
  ]
}